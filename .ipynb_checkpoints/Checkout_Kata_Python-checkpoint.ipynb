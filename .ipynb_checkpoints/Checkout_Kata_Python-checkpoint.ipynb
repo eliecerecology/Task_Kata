{
 "cells": [
  {
   "cell_type": "code",
   "execution_count": 2,
   "metadata": {},
   "outputs": [],
   "source": [
    "import pandas as pd\n",
    "import math"
   ]
  },
  {
   "cell_type": "code",
   "execution_count": 3,
   "metadata": {},
   "outputs": [],
   "source": [
    "# List of prices according to: http://codekata.com/kata/kata09-back-to-the-checkout/\n",
    "items = ['A', 'B', 'C', 'D']\n",
    "data = {'A': [50], \n",
    "        'B': [30],\n",
    "        'C': [20],\n",
    "        'D': [15]}\n",
    "df = pd.DataFrame(data, columns = items)\n",
    "#from this row I will sample data, which is the \"picking\" of items in shops"
   ]
  },
  {
   "cell_type": "code",
   "execution_count": 4,
   "metadata": {},
   "outputs": [],
   "source": [
    "#Offers or Promotions according the instructions: http://codekata.com/kata/kata09-back-to-the-checkout/\n",
    "offer_A = 130 # 3 items\n",
    "offer_B = 45  # 2 items"
   ]
  },
  {
   "cell_type": "code",
   "execution_count": 5,
   "metadata": {},
   "outputs": [],
   "source": [
    "#1. This is a f(x) to generate a list of items bought which need to be checked (sumed)\n",
    "def generator_seq(num_elements):\n",
    "    b = df.iloc[0,].sample(n = num_elements, replace=True, random_state = 999)\n",
    "    return b\n",
    "\n",
    "#2. This is a f(x) to count those items\n",
    "def count_items(lista): \n",
    "    lista.iloc[0:,]\n",
    "    a = lista.tolist()\n",
    "    t = {x:a.count(x) for x in a}\n",
    "    return t\n",
    "\n",
    "#3. This is a f(x) to visualize graphically counts (f(x)2)\n",
    "def visual(counts):\n",
    "    #quick plot the freq of items :-)\n",
    "    plt.bar(*zip(*counts.items()))\n",
    "    plt.title('item vs frequencies')\n",
    "    plt.xlabel('categories of products/PRICE')\n",
    "    plt.ylabel('frequency')\n",
    "    plt.show()\n",
    "    \n",
    "    print(\"Price\", \"Freq\")\n",
    "    for newkey in counts:\n",
    "        print(newkey, counts[newkey])\n",
    "        \n",
    "#4. this is the checkout function which calculate the total according the promotions\n",
    "def check_out(item1, item2, promo1, promo2, counts_dic): #(50, 30, offer_A, offer_B, counts_dic)\n",
    "    calc = 0\n",
    "    total = list()\n",
    "    t = counts_dic\n",
    "    \n",
    "    for newkey in t:\n",
    "        # This is for the first PROMO (offer) which include 3 items for a small price\n",
    "\n",
    "        if newkey == item1:\n",
    "            #for frequencies divisible by 3 e.g. 6, 9, 12....\n",
    "            if t[newkey] % 3 == 0 and t[newkey] >= 3:\n",
    "                val_1 = int(t[newkey]/3)\n",
    "                calc = (val_1*offer_A)\n",
    "                total.append(calc)\n",
    "\n",
    "            # for frequencies not divisible by 3 e.g. 4, 5, 7, 11...\n",
    "            elif t[newkey] % 3 == 1 and t[newkey] > 3:\n",
    "                frac, whole = math.modf(t[newkey]/3) #split the float: (whole, frac) => eg. (2.6)\n",
    "                frac = 1 if frac <= 0.6 else 2      # two posibilities 0.3 or 0.6. OR 1 or 2\n",
    "                calc = (whole*offer_A) + int(newkey*frac) #make the calculation\n",
    "                total.append(calc)\n",
    "\n",
    "            elif t[newkey] < 3:\n",
    "                total.append(int(newkey*t[newkey]))\n",
    "\n",
    "        # This is for the second PROMO which includes 2 items for a small price:\n",
    "        elif newkey == item2:\n",
    "\n",
    "            #for even frequencies larger or equal to 2, eg. 2, 4, 6, 8, ...106\n",
    "            if t[newkey] % 2 == 0 and t[newkey] >= 2:\n",
    "                val_1 = int(t[newkey]/2)\n",
    "                calc = (val_1*offer_B)\n",
    "                total.append(calc)\n",
    "\n",
    "            # for odd frequencies eg. 3, 5, 7,.... 19    \n",
    "            elif t[newkey] % 2 == 1 and t[newkey] > 2:\n",
    "                val_1 = int(t[newkey]/2)\n",
    "                calc = (val_1*offer_B) + int(newkey) # always: + 1value\n",
    "                total.append(calc)\n",
    "\n",
    "            elif t[newkey] == 1:\n",
    "                total.append(int(newkey))\n",
    "        else: \n",
    "            total.append(int(newkey*t[newkey]))\n",
    "\n",
    "\n",
    "    return sum(total)"
   ]
  },
  {
   "cell_type": "code",
   "execution_count": 6,
   "metadata": {},
   "outputs": [
    {
     "name": "stdout",
     "output_type": "stream",
     "text": [
      "A    50\n",
      "A    50\n",
      "B    30\n",
      "B    30\n",
      "A    50\n",
      "B    30\n",
      "D    15\n",
      "D    15\n",
      "B    30\n",
      "D    15\n",
      "A    50\n",
      "B    30\n",
      "Name: 0, dtype: int64\n"
     ]
    }
   ],
   "source": [
    "# call the functions:\n",
    "# 1.creare 10 items\n",
    "g = generator_seq(12)\n",
    "print(g)"
   ]
  },
  {
   "cell_type": "code",
   "execution_count": 7,
   "metadata": {},
   "outputs": [
    {
     "name": "stdout",
     "output_type": "stream",
     "text": [
      "{50: 4, 30: 5, 15: 3}\n"
     ]
    }
   ],
   "source": [
    "# call the functions:\n",
    "# 2.count each items == get frequency of each item\n",
    "h = count_items(g)   \n",
    "print(h)"
   ]
  },
  {
   "cell_type": "code",
   "execution_count": 8,
   "metadata": {},
   "outputs": [
    {
     "data": {
      "text/plain": [
       "345.0"
      ]
     },
     "execution_count": 8,
     "metadata": {},
     "output_type": "execute_result"
    }
   ],
   "source": [
    "# 4. Run the \"check_out\" and sum the elements\n",
    "check_out(50, 30, offer_A, offer_B, h) #(50, 30, offer_A, offer_B, counts_dic)\n",
    "#TOTAL"
   ]
  },
  {
   "cell_type": "code",
   "execution_count": 9,
   "metadata": {},
   "outputs": [
    {
     "name": "stdout",
     "output_type": "stream",
     "text": [
      "345\n"
     ]
    }
   ],
   "source": [
    "# doble check manually =\n",
    "Total = 130 + 50 + 45 + 45 + 30 + 45\n",
    "print(Total)\n",
    "# yes the check_out function works"
   ]
  },
  {
   "cell_type": "code",
   "execution_count": 10,
   "metadata": {},
   "outputs": [],
   "source": [
    "#2. EVALUATING items from the Kata. I created two more functions\n",
    "def func1():\n",
    "        #List of tests in the exercise\n",
    "    s = \"AB\"\n",
    "    ko = \"\"\n",
    "    l = \"AA\"\n",
    "    m = \"AAA\"\n",
    "    n = \"AAAA\"\n",
    "    o = \"CDBA\" #<-----special request\n",
    "    p = \"AAAAAA\"\n",
    "    q = \"AAAB\"\n",
    "    r = \"AAABB\"\n",
    "    ss = \"AAABBD\"\n",
    "    x = \"DABABA\"\n",
    "    return s, ko, l, m, n, o, p, q, r, ss, x\n",
    "\n",
    "\n",
    "def main():\n",
    "    for k in func1():\n",
    "        j = df[list(k)]\n",
    "        g = j.iloc[0,:]\n",
    "        h = count_items(g)\n",
    "        kk = check_out(50, 30, offer_A, offer_B, h)\n",
    "        print(\"sequence \" +  k + \" = \", kk)"
   ]
  },
  {
   "cell_type": "code",
   "execution_count": 11,
   "metadata": {},
   "outputs": [
    {
     "name": "stdout",
     "output_type": "stream",
     "text": [
      "sequence AB =  80\n",
      "sequence  =  0\n",
      "sequence AA =  100\n",
      "sequence AAA =  130\n",
      "sequence AAAA =  180.0\n",
      "sequence AAACA =  200.0\n",
      "sequence AAAAAA =  260\n",
      "sequence AAAB =  160\n",
      "sequence AAABB =  175\n",
      "sequence AAABBD =  190\n",
      "sequence DABABA =  190\n"
     ]
    }
   ],
   "source": [
    "main()"
   ]
  },
  {
   "cell_type": "code",
   "execution_count": null,
   "metadata": {},
   "outputs": [],
   "source": [
    "# OK that finalizes the exercise, if it is correct"
   ]
  }
 ],
 "metadata": {
  "kernelspec": {
   "display_name": "Python 3",
   "language": "python",
   "name": "python3"
  },
  "language_info": {
   "codemirror_mode": {
    "name": "ipython",
    "version": 3
   },
   "file_extension": ".py",
   "mimetype": "text/x-python",
   "name": "python",
   "nbconvert_exporter": "python",
   "pygments_lexer": "ipython3",
   "version": "3.6.6"
  }
 },
 "nbformat": 4,
 "nbformat_minor": 2
}
